{
 "cells": [
  {
   "cell_type": "markdown",
   "metadata": {},
   "source": [
    "## 小象学院课程\n",
    "## Pyhton数据分析\n",
    "## 女性服装电子商务数据分析"
   ]
  },
  {
   "cell_type": "markdown",
   "metadata": {},
   "source": [
    "> **提示**：<br>\n",
    "1、这样的文字将会指导你如何使用 jupyter Notebook 来完成项目。<br>\n",
    "2、你可以通过单击代码区域，然后使用键盘快捷键 Shift+Enter 或 Shift+Return 来运行代码。或者在选择代码后使用执行（run cell）按钮执行代码。Markdown的文字区域也同样可以如此操作。<br>\n",
    "3、在如下有# TODO 提示的地方，将代码补全，实现注释中所要求的功能。<br>\n",
    "4、在有\"** 回答：**\" 提示的地方，回答其上所提出的问题。<br>"
   ]
  },
  {
   "cell_type": "markdown",
   "metadata": {},
   "source": [
    "### 项目介绍：\n",
    "随着社会经济的发展，人们对服装的需求越来越多样化，而女性服装的变化也成为值得分析的一个关注点。这个项目的目的是对女性的服装进行分析，以了解客户对女性服装的态度。\n",
    "### 数据集分析\n",
    "项目的数据集内容主要是客户对服装的评论，数据集包括23486行和10个特征变量（列数，不包含索引列），而每一行包含了一个客户对服装的评论和其他相关信息。<br>\n",
    "* Clothing ID：服装的唯一ID号<br>\n",
    "* Age：评论者的年龄<br>\n",
    "* Title：评论标题<br>\n",
    "* Review： 评论内容<br>\n",
    "* Rating：评论员对服装的评级，从1到5，1最差，5最好<br>\n",
    "* Recommended IND：服装是否被评论家推荐，推荐为1，不推荐为0<br>\n",
    "* Positive Feedback Count：正反馈计数<br>\n",
    "* Division Name：服装高级分类的分类名称<br>\n",
    "* Department Name：服装部门名称的分类名称<br>\n",
    "* Class Name：服装分类名称\n"
   ]
  },
  {
   "cell_type": "markdown",
   "metadata": {},
   "source": [
    "### 分析流程：\n",
    "1、获得要分析的数据集：原数据集的每一行都是一个客户的评论，现在根据给定列Clothing ID,Recommended IND,Positive Feedback Count,Class Name获得需要的数据集<br>\n",
    "2、获得唯一Clothing ID的列表：由于Clothing ID的评论数不同，我们希望统计Clothing ID的评论数，仅对评论数大于400的唯一Clothing ID的数据进行分析<br>\n",
    "3、该服装的受欢迎程度：基于Clothing ID的列表，计算每个Clothing ID的评论次数和推荐次数，进而计算推荐次数占评论次数的比例，该占比即服装的受欢迎程度。<br>\n",
    "4、计算每个Clothing ID的正反馈次数：对每个Clothing ID代表的服装进行统计，计算正反馈次数的加和，了解客户对服装的正面评价情况<br>\n",
    "5、执行main方法，打印每个Clothing ID的统计数据"
   ]
  },
  {
   "cell_type": "markdown",
   "metadata": {},
   "source": [
    "## 实践\n",
    "导入要使用的库"
   ]
  },
  {
   "cell_type": "code",
   "execution_count": null,
   "metadata": {},
   "outputs": [],
   "source": [
    "import numpy as np\n",
    "import csv"
   ]
  },
  {
   "cell_type": "markdown",
   "metadata": {},
   "source": [
    "### 获得要分析的数据\n",
    "本项目只对数据集中的Clothing ID,Recommended IND,Positive Feedback Count,Class Name列进行分析<br>"
   ]
  },
  {
   "cell_type": "code",
   "execution_count": null,
   "metadata": {
    "scrolled": false
   },
   "outputs": [],
   "source": [
    "def get_alldata(filename):\n",
    "    \"\"\"\n",
    "    功能：\n",
    "        通过文件的路径，得到所有数据，然后根据给定的列名，得到索引，再根据索引获得对应的数据集 ，数据集的每一行都是一个客户的评论\n",
    "    参数：\n",
    "        文件的路径：womens_clothing_e-commerce_reviews.csv\n",
    "    返回值：\n",
    "        返回给定列的所有数据，以array的形式返回\n",
    "    \n",
    "    \"\"\"\n",
    "    dataset_all_lst = []\n",
    "    with open(filename,'r') as csv_file: \n",
    "        col_name_all = csv_file.readline()[:-1]\n",
    "        colname_str = \"Clothing ID,Recommended IND,Positive Feedback Count,Class Name\"\n",
    "        \n",
    "        col_name_all = col_name_all.split(\",\")\n",
    "        colname_lst = colname_str.split(\",\")\n",
    "        \n",
    "        # TODO\n",
    "        # colindex_lst是列表，依据colname_lst提供的字段，获得该字段在col_name_all中的索引号\n",
    "        # None是需要补充代码的地方\n",
    "        colindex_lst = None\n",
    "        \n",
    "    \n",
    "        # TODO\n",
    "        # dataset的每列的列名依次为\"服装号(Clothing ID),推荐标识(Recommended IND),积极反馈（Positive Feedback Count）,服装类型（Class Name）\"，\n",
    "        # 使用csv模块的reader函数读取csv_file的数据，依据得到的索引号colindex_lst，获得对应列的数据集到dataset列表中。\n",
    "        # dataset中的每个元素是列表，比如，['767', '1', '0', 'Intimates']\n",
    "\n",
    "        dataset = []\n",
    "\n",
    "        \n",
    "        \n",
    "        \n",
    "        return np.array(dataset) \n"
   ]
  },
  {
   "cell_type": "markdown",
   "metadata": {},
   "source": [
    "### 获得唯一Clothing ID的列表\n",
    "   由于每个Clothing ID的评论数量不同，而对Clothing ID的评论数量较多的数据集进行分析，则容易发现一些规律。因此，我们根据得到的数据集dataset，对每个Clothing ID的评论统计数量，进而得到评论数量大于400的Clothing ID对应的数据集，以此数据集为基础进行后续分析。<br>\n",
    "   * 统计Clothing ID的评论数，得到评论数大于400的唯一Clothing ID的列表，以方便后续基于Clothing ID的列表对推荐次数和正反馈计数进行分析。\n",
    "   * 正确答案：评论数大于400的客户有9个，列表是['1078' '1081' '1094' '1110' '829' '862' '868' '872' '895']"
   ]
  },
  {
   "cell_type": "code",
   "execution_count": null,
   "metadata": {},
   "outputs": [],
   "source": [
    "def get_id_count_arr(dataset):\n",
    "    \"\"\"\n",
    "    功能：\n",
    "        由于数据集的每一行都是一个客户的评论，因此这个函数根据Clothing ID来分析对应的评论数，\n",
    "    参数：\n",
    "        \"Clothing ID,Recommended IND,Positive Feedback Count,Class Name\"列的所有数据集，数据集的每一行都是一个客户的评论\n",
    "    返回值：\n",
    "        返回评论大于400的所有Clothing ID号\n",
    "    \"\"\"\n",
    "    # TODO\n",
    "    # 计算每个Clothing ID的评论数，将Clothing ID的数量大于400的数据放入id_count_lst中\n",
    "\n",
    "\n",
    "    \n",
    "    \n",
    "\n",
    "    return id_count_lst\n"
   ]
  },
  {
   "cell_type": "markdown",
   "metadata": {},
   "source": [
    "### 该服装受欢迎程度\n",
    "基于Clothing ID的列表，计算每个Clothing ID的评论次数和推荐次数，进而计算该服装被推荐的程度，即：推荐次数比上评论次数。比如Clothing ID=1的有10条评论，其中有5条为被推荐，则Clothing ID=1的评论次数为10，推荐次数为5，该服装的受欢迎程度为：5/10=0.5。"
   ]
  },
  {
   "cell_type": "code",
   "execution_count": null,
   "metadata": {},
   "outputs": [],
   "source": [
    "def cal_recom_num(dataset,id_lst):\n",
    "    \"\"\"\n",
    "    功能：\n",
    "        计算每个Clothing ID代表的服装被评论的次数列表，以及被推荐的次数列表\n",
    "    参数：\n",
    "        dataset：需要被分析的数据集\n",
    "        id_lst：需要被分析的唯一Clothing ID号\n",
    "    返回值：\n",
    "        id_recom_ratio_lst：返回推荐次数占评论次数的比例，即得到这个Clothing ID代表的服装的受欢迎程度\n",
    "    \"\"\"\n",
    "\n",
    "    # 元素为被推荐次数占评论数的比例\n",
    "    id_recom_ratio_lst = []\n",
    "    \n",
    "    # TODO\n",
    "    # dataset的每列的列名依次为\"服装号(Clothing ID),推荐标识(Recommended IND),积极反馈（Positive Feedback Count）,服装类型（Class Name）\"，\n",
    "    # 故被推荐次数的索引为1，该列中的数据只有0和1，1表示推荐，0表示不推荐\n",
    "    # 现在需要通过id_lst和dataset，利用数组的性质，计算每个Clothing ID号代表服装的被推荐的比例，即推荐次数比上评论次数\n",
    "\n",
    "    \n",
    "    \n",
    "    \n",
    "        \n",
    "    return id_recom_ratio_lst\n",
    "        \n"
   ]
  },
  {
   "cell_type": "markdown",
   "metadata": {},
   "source": [
    "### 计算每个Clothing ID的正反馈次数\n",
    "对每个Clothing ID的正反馈次数进行加和统计，计算每个Clothing ID正反馈次数的总和，以了解客户对这件衣服的总反馈是怎么样的。"
   ]
  },
  {
   "cell_type": "code",
   "execution_count": null,
   "metadata": {},
   "outputs": [],
   "source": [
    "def cal_pos_num(dataset,id_lst):\n",
    "    \"\"\"\n",
    "    功能：\n",
    "        Positive Feedback Count列是每个评论被赞同的次数，计算每个Clothing ID的评论被赞同的总次数。   \n",
    "    参数：\n",
    "        dataset：需要被分析的数据集\n",
    "        id_lst：需要被分析的唯一Clothing ID号\n",
    "\n",
    "    返回值：\n",
    "        id_pos_sum_lst中的元素为每个Clothing ID的评论被赞同的和（总次数）。\n",
    "        id_name_lst中的每个元素是Clothing ID的服装类型。\n",
    "    \"\"\"\n",
    "    # 每个Clothing ID进行正反馈次数加和的列表\n",
    "    id_pos_sum_lst = []\n",
    "    # 每个Clothing ID的类型名称\n",
    "    id_name_lst = []\n",
    "    \n",
    "    # TODO\n",
    "    # dataset的每列的列名依次为\"服装号(Clothing ID),推荐标识(Recommended IND),积极反馈（Positive Feedback Count）,服装类型（Class Name）\"，\n",
    "    # 对每个Clothing ID被评论的正反馈次数进行加和统计和对应的服装类型Class Name\n",
    "\n",
    "    \n",
    "    \n",
    "    \n",
    "        \n",
    "    \n",
    "    return id_pos_sum_lst,id_name_lst"
   ]
  },
  {
   "cell_type": "markdown",
   "metadata": {},
   "source": [
    "### 打印每个Clothing ID的统计数据"
   ]
  },
  {
   "cell_type": "code",
   "execution_count": null,
   "metadata": {},
   "outputs": [],
   "source": [
    "if __name__ == '__main__':\n",
    "    filename=\"./dataFile/womens_clothing_e-commerce_reviews.csv\"\n",
    "    dataset = get_alldata(filename)\n",
    "    print(\"数据集dataset的维度是: {}\".format(dataset.shape))\n",
    "    \n",
    "    # 计算评论次数大于400的唯一Clothing ID号\n",
    "    id_count_lst = get_id_count_arr(dataset)\n",
    "    print(\"评论次数大于400的唯一Clothing ID号有{}个，列表是{}\".format(len(id_count_arr),id_count_arr))\n",
    "    \n",
    "    # id_data_lst：每个Clothing ID被评论的次数，id_recom_lst：每个Clothing ID被评论的推荐次数\n",
    "#     id_data_lst,id_recom_lst = cal_recom_num(dataset,id_count_arr)\n",
    "    recom_ratio_lst = cal_recom_num(dataset,id_count_arr)\n",
    "    \n",
    "    # 对每个Clothing ID的服装被评论的积极反馈进行数量统计\n",
    "    id_pos_sum_lst,id_name_lst = cal_pos_num(dataset,id_count_arr)\n",
    "    \n",
    "    # 将id_count_lst，id_count_lst,id_data_lst,id_recom_lst,id_pos_sum_arr进行合并\n",
    "    id_data_arrs = np.array((id_count_lst,id_name_lst,recom_ratio_lst,id_pos_sum_lst)).T\n",
    "    for id_data in id_data_arrs:\n",
    "        print(\"Clothing ID为 {} ,服装类型为 {},被推荐的占比为: {}，正反馈的总计数为: {}\".format(id_data[0],id_data[1],id_data[2],id_data[3]))\n",
    "    "
   ]
  },
  {
   "cell_type": "code",
   "execution_count": null,
   "metadata": {},
   "outputs": [],
   "source": []
  }
 ],
 "metadata": {
  "kernelspec": {
   "display_name": "Python 3",
   "language": "python",
   "name": "python3"
  },
  "language_info": {
   "codemirror_mode": {
    "name": "ipython",
    "version": 3
   },
   "file_extension": ".py",
   "mimetype": "text/x-python",
   "name": "python",
   "nbconvert_exporter": "python",
   "pygments_lexer": "ipython3",
   "version": "3.7.1"
  }
 },
 "nbformat": 4,
 "nbformat_minor": 2
}
