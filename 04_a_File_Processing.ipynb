{
  "nbformat": 4,
  "nbformat_minor": 0,
  "metadata": {
    "kernelspec": {
      "display_name": "Python 3",
      "language": "python",
      "name": "python3"
    },
    "language_info": {
      "codemirror_mode": {
        "name": "ipython",
        "version": 3
      },
      "file_extension": ".py",
      "mimetype": "text/x-python",
      "name": "python",
      "nbconvert_exporter": "python",
      "pygments_lexer": "ipython3",
      "version": "3.6.8"
    },
    "colab": {
      "name": "04.a - File Processing.ipynb",
      "version": "0.3.2",
      "provenance": [],
      "toc_visible": true,
      "include_colab_link": true
    }
  },
  "cells": [
    {
      "cell_type": "markdown",
      "metadata": {
        "id": "view-in-github",
        "colab_type": "text"
      },
      "source": [
        "<a href=\"https://colab.research.google.com/github/YanJessica/DataIncubatorChallege/blob/master/04_a_File_Processing.ipynb\" target=\"_parent\"><img src=\"https://colab.research.google.com/assets/colab-badge.svg\" alt=\"Open In Colab\"/></a>"
      ]
    },
    {
      "cell_type": "markdown",
      "metadata": {
        "id": "K5VWOorvHK74",
        "colab_type": "text"
      },
      "source": [
        "# Files\n",
        "[Python File I/O\n",
        "](https://www.programiz.com/python-programming/file-operation)\n",
        "\n",
        "\n",
        "## Open Files"
      ]
    },
    {
      "cell_type": "code",
      "metadata": {
        "id": "RbsM9FcAHK75",
        "colab_type": "code",
        "colab": {}
      },
      "source": [
        "f = open('file.txt')"
      ],
      "execution_count": 0,
      "outputs": []
    },
    {
      "cell_type": "markdown",
      "metadata": {
        "id": "jYxHG5ybHK79",
        "colab_type": "text"
      },
      "source": [
        "### Python File Modes\n",
        "\n",
        "| Mode | Description | \n",
        "|---|---|\n",
        "| 'r'\t| Open a file for reading. (default) |\n",
        "| 'w'\t| Open a file for writing. Creates a new file if it does not exist or truncates the file if it exists. |\n",
        "| 'x'\t| Open a file for exclusive creation. If the file already exists, the operation fails. |\n",
        "| 'a'\t| Open for appending at the end of the file without truncating it. Creates a new file if it does not exist. |\n",
        "| 't'\t| Open in text mode. (default) |\n",
        "| 'b'\t| Open in binary mode. |\n",
        "| '+'\t| Open a file for updating (reading and writing) |"
      ]
    },
    {
      "cell_type": "code",
      "metadata": {
        "id": "gAf-JzZbHK7-",
        "colab_type": "code",
        "colab": {}
      },
      "source": [
        "f = open(\"test.txt\")      # equivalent to 'r' or 'rt'"
      ],
      "execution_count": 0,
      "outputs": []
    },
    {
      "cell_type": "code",
      "metadata": {
        "id": "F8vVHGdSHK8C",
        "colab_type": "code",
        "colab": {}
      },
      "source": [
        "f = open(\"test.txt\", 'w')  # write in text mode"
      ],
      "execution_count": 0,
      "outputs": []
    },
    {
      "cell_type": "code",
      "metadata": {
        "id": "pvxZ51jFHK8F",
        "colab_type": "code",
        "colab": {}
      },
      "source": [
        "f = open(\"python.png\",'r+b') # read and write in binary mode"
      ],
      "execution_count": 0,
      "outputs": []
    },
    {
      "cell_type": "markdown",
      "metadata": {
        "id": "FBObEsbAHK8J",
        "colab_type": "text"
      },
      "source": [
        "### File Encodings\n",
        "\n",
        "Unlike other languages, the character 'a' does not imply the number 97 until it is encoded using ASCII (or other equivalent encodings). The default encoding is platform dependent.\n",
        "\n",
        "* In Windows it is 'cp1252' \n",
        "* In Linux it is 'utf-8'\n",
        "\n",
        "You cannot rely on the default encoding or else our code will behave differently in different platforms. It is highly recommended to specify the encoding type when working with text files."
      ]
    },
    {
      "cell_type": "code",
      "metadata": {
        "id": "dTWkuje8HK8K",
        "colab_type": "code",
        "colab": {}
      },
      "source": [
        "f = open(\"file.txt\", mode='r', encoding='utf-8')"
      ],
      "execution_count": 0,
      "outputs": []
    },
    {
      "cell_type": "markdown",
      "metadata": {
        "id": "5GuJ1-wtHK8N",
        "colab_type": "text"
      },
      "source": [
        "## Closing Files"
      ]
    },
    {
      "cell_type": "code",
      "metadata": {
        "id": "cYap3go0HK8O",
        "colab_type": "code",
        "colab": {}
      },
      "source": [
        "f = open(\"file.txt\", encoding='utf-8')\n",
        "# perform file operations\n",
        "f.close()"
      ],
      "execution_count": 0,
      "outputs": []
    },
    {
      "cell_type": "markdown",
      "metadata": {
        "id": "so2CxFRgHK8S",
        "colab_type": "text"
      },
      "source": [
        "In the last example exceptions could crash your program. Exception handlig is a topic in itself, but here we'll simply wrap the code in a try...catch block. Now the file handle will be closed regardless of whether or not there was an exception. In the example above, an exeption might result in the file remaining open (and potentially locked) from other applications in the event of an exception."
      ]
    },
    {
      "cell_type": "code",
      "metadata": {
        "id": "K6l341bKHK8T",
        "colab_type": "code",
        "colab": {}
      },
      "source": [
        "try:\n",
        "   f = open(\"file.txt\",encoding = 'utf-8')\n",
        "   # perform file operations\n",
        "finally:\n",
        "   f.close()"
      ],
      "execution_count": 0,
      "outputs": []
    },
    {
      "cell_type": "markdown",
      "metadata": {
        "id": "uk_lLagkHK8X",
        "colab_type": "text"
      },
      "source": [
        "## Using with\n",
        "\n",
        "The best way to ensure that you close your files when the code block terminates is by using the with statement. When using the with statement you do not have to explicitly call the file's close() method."
      ]
    },
    {
      "cell_type": "code",
      "metadata": {
        "id": "a9TRFLrmHK8Y",
        "colab_type": "code",
        "colab": {},
        "outputId": "c55d1c8a-11fc-40b6-ddd8-9b7dc7d44d9d"
      },
      "source": [
        "with open('file.txt') as f:\n",
        "    text = f.read()\n",
        "    print(text)"
      ],
      "execution_count": 0,
      "outputs": [
        {
          "output_type": "stream",
          "text": [
            "hello class\n",
            "python is fun\n",
            "\n",
            "let's get started\n",
            "\n"
          ],
          "name": "stdout"
        }
      ]
    },
    {
      "cell_type": "markdown",
      "metadata": {
        "id": "hmcPtz35HK8d",
        "colab_type": "text"
      },
      "source": [
        "## Writing Files"
      ]
    },
    {
      "cell_type": "code",
      "metadata": {
        "id": "uvK1qe8sHK8e",
        "colab_type": "code",
        "colab": {}
      },
      "source": [
        "with open(\"file.txt\", 'w', encoding='utf-8') as f:\n",
        "   f.write(\"hello class\\n\" )\n",
        "   f.write(\"python is fun\\n\\n\")\n",
        "   f.write(\"let's get started\\n\")       "
      ],
      "execution_count": 0,
      "outputs": []
    },
    {
      "cell_type": "markdown",
      "metadata": {
        "collapsed": true,
        "id": "X-_V-NcgHK8h",
        "colab_type": "text"
      },
      "source": [
        "## Reading Files"
      ]
    },
    {
      "cell_type": "code",
      "metadata": {
        "id": "Ul8SL1j1HK8i",
        "colab_type": "code",
        "colab": {},
        "outputId": "903289f7-c862-426f-9087-0090ea52275b"
      },
      "source": [
        "f = open(\"file.txt\", 'r', encoding='utf-8')\n",
        "print('1:', f.read(3)) # read the 1st 4 characters\n",
        "print('2:', f.read(3)) # read the next 4 characters\n",
        "print('3:', f.read()) # read until the end\n",
        "print('4:', f.read()) # return's an empty string"
      ],
      "execution_count": 0,
      "outputs": [
        {
          "output_type": "stream",
          "text": [
            "1: hel\n",
            "2: lo \n",
            "3: class\n",
            "python is fun\n",
            "\n",
            "let's get started\n",
            "\n",
            "4: \n"
          ],
          "name": "stdout"
        }
      ]
    },
    {
      "cell_type": "code",
      "metadata": {
        "id": "Yq8-HnBZHK8l",
        "colab_type": "code",
        "colab": {},
        "outputId": "9d88745b-1081-48c8-c756-a6fdc63af705"
      },
      "source": [
        "f.tell() # get the current file position"
      ],
      "execution_count": 0,
      "outputs": [
        {
          "output_type": "execute_result",
          "data": {
            "text/plain": [
              "45"
            ]
          },
          "metadata": {
            "tags": []
          },
          "execution_count": 20
        }
      ]
    },
    {
      "cell_type": "code",
      "metadata": {
        "id": "4-7q8MmPHK8o",
        "colab_type": "code",
        "colab": {},
        "outputId": "f5b07a86-dea9-4f9e-8ca3-020381b1ea6b"
      },
      "source": [
        "f.seek(0) # bring file cursor to initial position"
      ],
      "execution_count": 0,
      "outputs": [
        {
          "output_type": "execute_result",
          "data": {
            "text/plain": [
              "0"
            ]
          },
          "metadata": {
            "tags": []
          },
          "execution_count": 21
        }
      ]
    },
    {
      "cell_type": "code",
      "metadata": {
        "id": "Ezr40lRXHK8r",
        "colab_type": "code",
        "colab": {},
        "outputId": "967babb2-4de6-4b4b-fc35-ac72e1863042"
      },
      "source": [
        "f.read() # read the entire file"
      ],
      "execution_count": 0,
      "outputs": [
        {
          "output_type": "execute_result",
          "data": {
            "text/plain": [
              "\"hello class\\npython is fun\\n\\nlet's get started\\n\""
            ]
          },
          "metadata": {
            "tags": []
          },
          "execution_count": 22
        }
      ]
    },
    {
      "cell_type": "code",
      "metadata": {
        "id": "WE0HO6ddHK8u",
        "colab_type": "code",
        "colab": {},
        "outputId": "3096f9fc-94a4-4de0-cc85-9e43ff3ab094"
      },
      "source": [
        "f.seek(0) # reset the cursor"
      ],
      "execution_count": 0,
      "outputs": [
        {
          "output_type": "execute_result",
          "data": {
            "text/plain": [
              "0"
            ]
          },
          "metadata": {
            "tags": []
          },
          "execution_count": 23
        }
      ]
    },
    {
      "cell_type": "code",
      "metadata": {
        "id": "6QnU3ITlHK8w",
        "colab_type": "code",
        "colab": {}
      },
      "source": [
        "# read line by line\n",
        "for line in f:\n",
        "    print(line, end='')"
      ],
      "execution_count": 0,
      "outputs": []
    },
    {
      "cell_type": "code",
      "metadata": {
        "id": "qFNkZcuAHK80",
        "colab_type": "code",
        "colab": {},
        "outputId": "c5d189b4-a75e-4655-b421-bfe900cecb6f"
      },
      "source": [
        "f.seek(0) # reset the cursor"
      ],
      "execution_count": 0,
      "outputs": [
        {
          "output_type": "execute_result",
          "data": {
            "text/plain": [
              "0"
            ]
          },
          "metadata": {
            "tags": []
          },
          "execution_count": 26
        }
      ]
    },
    {
      "cell_type": "code",
      "metadata": {
        "id": "UdASTmojHK83",
        "colab_type": "code",
        "colab": {},
        "outputId": "065fb5e7-3076-4752-96ad-420cb36a5506"
      },
      "source": [
        "# read line by line\n",
        "f.readline()"
      ],
      "execution_count": 0,
      "outputs": [
        {
          "output_type": "execute_result",
          "data": {
            "text/plain": [
              "'hello class\\n'"
            ]
          },
          "metadata": {
            "tags": []
          },
          "execution_count": 27
        }
      ]
    },
    {
      "cell_type": "code",
      "metadata": {
        "id": "VnmJDcYXHK86",
        "colab_type": "code",
        "colab": {},
        "outputId": "5276bf3a-0c16-473a-ade2-1cb62d7075b5"
      },
      "source": [
        "f.readline()"
      ],
      "execution_count": 0,
      "outputs": [
        {
          "output_type": "execute_result",
          "data": {
            "text/plain": [
              "'python is fun\\n'"
            ]
          },
          "metadata": {
            "tags": []
          },
          "execution_count": 28
        }
      ]
    },
    {
      "cell_type": "code",
      "metadata": {
        "id": "m25dS8ArHK9B",
        "colab_type": "code",
        "colab": {},
        "outputId": "b3c1b48f-dddf-496e-c1c5-7612c814a679"
      },
      "source": [
        "f.readline()"
      ],
      "execution_count": 0,
      "outputs": [
        {
          "output_type": "execute_result",
          "data": {
            "text/plain": [
              "'\\n'"
            ]
          },
          "metadata": {
            "tags": []
          },
          "execution_count": 29
        }
      ]
    },
    {
      "cell_type": "code",
      "metadata": {
        "id": "-Oa3mLC9HK9H",
        "colab_type": "code",
        "colab": {},
        "outputId": "954cb052-62ce-4ca5-9392-ae4c8ced30cb"
      },
      "source": [
        "f.readline()"
      ],
      "execution_count": 0,
      "outputs": [
        {
          "output_type": "execute_result",
          "data": {
            "text/plain": [
              "\"let's get started\\n\""
            ]
          },
          "metadata": {
            "tags": []
          },
          "execution_count": 30
        }
      ]
    },
    {
      "cell_type": "code",
      "metadata": {
        "id": "w0I_ciCCHK9J",
        "colab_type": "code",
        "colab": {},
        "outputId": "7d6fb713-25b5-4dad-866b-c20880834e3c"
      },
      "source": [
        "f.readline()"
      ],
      "execution_count": 0,
      "outputs": [
        {
          "output_type": "execute_result",
          "data": {
            "text/plain": [
              "''"
            ]
          },
          "metadata": {
            "tags": []
          },
          "execution_count": 31
        }
      ]
    },
    {
      "cell_type": "code",
      "metadata": {
        "id": "Mg68GvzjHK9M",
        "colab_type": "code",
        "colab": {},
        "outputId": "c763801a-fab9-4b26-cb48-1f3e2b3a43db"
      },
      "source": [
        "f.seek(0) # reset the cursor"
      ],
      "execution_count": 0,
      "outputs": [
        {
          "output_type": "execute_result",
          "data": {
            "text/plain": [
              "0"
            ]
          },
          "metadata": {
            "tags": []
          },
          "execution_count": 32
        }
      ]
    },
    {
      "cell_type": "code",
      "metadata": {
        "id": "hNvmmJmMHK9P",
        "colab_type": "code",
        "colab": {},
        "outputId": "a378f05e-289a-470a-e64c-e26c9fd52b74"
      },
      "source": [
        "# read all lines at once\n",
        "f.readlines()"
      ],
      "execution_count": 0,
      "outputs": [
        {
          "output_type": "execute_result",
          "data": {
            "text/plain": [
              "['hello class\\n', 'python is fun\\n', '\\n', \"let's get started\\n\"]"
            ]
          },
          "metadata": {
            "tags": []
          },
          "execution_count": 33
        }
      ]
    },
    {
      "cell_type": "code",
      "metadata": {
        "id": "9w1WHiUGHK9S",
        "colab_type": "code",
        "colab": {}
      },
      "source": [
        ""
      ],
      "execution_count": 0,
      "outputs": []
    }
  ]
}